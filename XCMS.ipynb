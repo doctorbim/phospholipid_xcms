{
  "nbformat": 4,
  "nbformat_minor": 0,
  "metadata": {
    "colab": {
      "provenance": [],
      "machine_shape": "hm",
      "gpuType": "A100",
      "mount_file_id": "1a5z4k75kZ4E2Jy-8QM4NtwC7o3TnjmTk",
      "authorship_tag": "ABX9TyORO8bsCHgWRTaM2sKfpMtJ",
      "include_colab_link": true
    },
    "kernelspec": {
      "name": "ir",
      "display_name": "R"
    },
    "language_info": {
      "name": "R"
    },
    "accelerator": "GPU"
  },
  "cells": [
    {
      "cell_type": "markdown",
      "metadata": {
        "id": "view-in-github",
        "colab_type": "text"
      },
      "source": [
        "<a href=\"https://colab.research.google.com/github/doctorbim/CADL/blob/master/XCMS.ipynb\" target=\"_parent\"><img src=\"https://colab.research.google.com/assets/colab-badge.svg\" alt=\"Open In Colab\"/></a>"
      ]
    },
    {
      "cell_type": "code",
      "source": [
        "install.packages('googledrive') #only need to install occasionally\n",
        "install.packages('httpuv')\n",
        "library('googledrive')\n",
        "library('httpuv')"
      ],
      "metadata": {
        "id": "JHbcQy0Bykib"
      },
      "execution_count": null,
      "outputs": []
    },
    {
      "cell_type": "code",
      "source": [
        "if (file.exists(\"/usr/local/lib/python3.10/dist-packages/google/colab/_ipython.py\")) { #may update python version occasionally\n",
        "  install.packages(\"R.utils\")\n",
        "  library(\"R.utils\")\n",
        "  library(\"httr\")\n",
        "  my_check <- function() {return(TRUE)}\n",
        "  reassignInPackage(\"is_interactive\", pkgName = \"httr\", my_check)\n",
        "  options(rlang_interactive=TRUE)\n",
        "}"
      ],
      "metadata": {
        "id": "-mwa4UWOzVHf"
      },
      "execution_count": null,
      "outputs": []
    },
    {
      "cell_type": "code",
      "source": [
        "drive_auth(use_oob = TRUE, cache = FALSE)"
      ],
      "metadata": {
        "colab": {
          "base_uri": "https://localhost:8080/"
        },
        "id": "eWka5FS9z4Ve",
        "outputId": "a7fd3b0e-24eb-4e7c-f059-fa5c21e7d91d"
      },
      "execution_count": 14,
      "outputs": [
        {
          "output_type": "stream",
          "name": "stderr",
          "text": [
            "Please point your browser to the following url: \n",
            "\n",
            "https://accounts.google.com/o/oauth2/v2/auth?client_id=603366585132-frjlouoa3s2ono25d2l9ukvhlsrlnr7k.apps.googleusercontent.com&scope=https%3A%2F%2Fwww.googleapis.com%2Fauth%2Fdrive%20https%3A%2F%2Fwww.googleapis.com%2Fauth%2Fuserinfo.email&redirect_uri=https%3A%2F%2Fwww.tidyverse.org%2Fgoogle-callback%2F&response_type=code&state=b60051baefbfb6c4142a8a7a97ca3f55&access_type=offline&prompt=consent\n",
            "\n"
          ]
        },
        {
          "name": "stdout",
          "output_type": "stream",
          "text": [
            "Enter authorization code: eyJjb2RlIjoiNC8wQWJVUjJWT0lQYzFpZ3AydjVpWGQ5UG42T3RTYjFOZU1zc1NLRm1pbFJIbFFpaHBHN3R3SDNLS1A2cE9MYkV6Z2RveXVOUSIsInN0YXRlIjoiYjYwMDUxYmFlZmJmYjZjNDE0MmE4YTdhOTdjYTNmNTUifQ==\n"
          ]
        }
      ]
    },
    {
      "cell_type": "code",
      "source": [
        "x <- drive_get(\"~/Folder1/Folder2/Nutrition__Physical_Activity__\n",
        "              and_Obesity_-_Youth_Risk_Behavior_\n",
        "              Surveillance_System.csv\")\n",
        "drive_download(x)\n",
        "z <- read.csv(\"/content/Nutrition__Physical_Activity__and_Obesity_-\n",
        "              _Youth_Risk_Behavior_Surveillance_System.csv\")\n",
        "head(z)"
      ],
      "metadata": {
        "colab": {
          "base_uri": "https://localhost:8080/",
          "height": 34
        },
        "id": "lUgQ5JBF0Liq",
        "outputId": "b7035b3a-9fdd-47ee-f95f-2f28d44a9b7f"
      },
      "execution_count": 15,
      "outputs": [
        {
          "output_type": "display_data",
          "data": {
            "text/html": [
              "'/content'"
            ],
            "text/markdown": "'/content'",
            "text/latex": "'/content'",
            "text/plain": [
              "[1] \"/content\""
            ]
          },
          "metadata": {}
        }
      ]
    },
    {
      "cell_type": "markdown",
      "source": [
        "Installation of XCMS\n",
        "To install this package, start R (version \"4.3\") and enter:"
      ],
      "metadata": {
        "id": "tZB4nPsIPTTi"
      }
    },
    {
      "cell_type": "code",
      "source": [
        "if (!require(\"BiocManager\", quietly = TRUE))\n",
        "    install.packages(\"BiocManager\")"
      ],
      "metadata": {
        "colab": {
          "base_uri": "https://localhost:8080/"
        },
        "id": "bb4xfDHIO-UN",
        "outputId": "923b3c9b-809b-4335-ba27-1e8f5b41ceb3"
      },
      "execution_count": 1,
      "outputs": [
        {
          "output_type": "stream",
          "name": "stderr",
          "text": [
            "Installing package into ‘/usr/local/lib/R/site-library’\n",
            "(as ‘lib’ is unspecified)\n",
            "\n"
          ]
        }
      ]
    },
    {
      "cell_type": "code",
      "source": [
        "BiocManager::install(\"xcms\")"
      ],
      "metadata": {
        "id": "TpWNZNl6PCbx"
      },
      "execution_count": null,
      "outputs": []
    },
    {
      "cell_type": "code",
      "source": [
        "BiocManager::install(c(\"faahKO\", \"pander\"))"
      ],
      "metadata": {
        "id": "v82KzPxFvT9I"
      },
      "execution_count": null,
      "outputs": []
    },
    {
      "cell_type": "code",
      "source": [
        "library(xcms)\n",
        "library(faahKO)\n",
        "library(RColorBrewer)\n",
        "library(pander)\n",
        "library(magrittr)\n",
        "library(pheatmap)\n",
        "library(SummarizedExperiment)"
      ],
      "metadata": {
        "id": "s3XGPEbZOoja"
      },
      "execution_count": null,
      "outputs": []
    },
    {
      "cell_type": "code",
      "source": [
        "cdfs <- dir(system.file(\"cdf\", package = \"faahKO\"), full.names = TRUE,\n",
        "            recursive = TRUE)[c(1, 2, 5, 6, 7, 8, 11, 12)]\n",
        "## Create a phenodata data.frame\n",
        "pd <- data.frame(sample_name = sub(basename(cdfs), pattern = \".CDF\",\n",
        "                                   replacement = \"\", fixed = TRUE),\n",
        "                 sample_group = c(rep(\"KO\", 4), rep(\"WT\", 4)),\n",
        "                 stringsAsFactors = FALSE)"
      ],
      "metadata": {
        "id": "GxSZQPXbu-lN"
      },
      "execution_count": 7,
      "outputs": []
    },
    {
      "cell_type": "code",
      "source": [
        "raw_data <- readMSData(files = cdfs, pdata = new(\"NAnnotatedDataFrame\", pd),\n",
        "                       mode = \"onDisk\")"
      ],
      "metadata": {
        "id": "WC_6xp22wLX6"
      },
      "execution_count": null,
      "outputs": []
    },
    {
      "cell_type": "code",
      "source": [],
      "metadata": {
        "id": "1n0m0uhSwMQ_"
      },
      "execution_count": null,
      "outputs": []
    }
  ]
}